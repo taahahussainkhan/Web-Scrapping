{
 "cells": [
  {
   "cell_type": "code",
   "execution_count": 1,
   "id": "b861e4b5",
   "metadata": {},
   "outputs": [],
   "source": [
    "import requests"
   ]
  },
  {
   "cell_type": "code",
   "execution_count": 2,
   "id": "0e18534f",
   "metadata": {},
   "outputs": [],
   "source": [
    "url = \"https://timesofindia.indiatimes.com/city/delhi\""
   ]
  },
  {
   "cell_type": "code",
   "execution_count": 11,
   "id": "cf8066a9",
   "metadata": {},
   "outputs": [],
   "source": [
    "def fetchAndSaveToFile(url, path):\n",
    "    r = requests.get(url)\n",
    "    with open(path,\"wb\") as f:\n",
    "        f.write(r.content)\n",
    "\n"
   ]
  },
  {
   "cell_type": "code",
   "execution_count": 12,
   "id": "bc8a4ae8",
   "metadata": {},
   "outputs": [],
   "source": [
    "fetchAndSaveToFile(url, \"times.html\")"
   ]
  },
  {
   "cell_type": "code",
   "execution_count": null,
   "id": "05941e87",
   "metadata": {},
   "outputs": [],
   "source": []
  }
 ],
 "metadata": {
  "kernelspec": {
   "display_name": "Python 3 (ipykernel)",
   "language": "python",
   "name": "python3"
  },
  "language_info": {
   "codemirror_mode": {
    "name": "ipython",
    "version": 3
   },
   "file_extension": ".py",
   "mimetype": "text/x-python",
   "name": "python",
   "nbconvert_exporter": "python",
   "pygments_lexer": "ipython3",
   "version": "3.11.2"
  }
 },
 "nbformat": 4,
 "nbformat_minor": 5
}
